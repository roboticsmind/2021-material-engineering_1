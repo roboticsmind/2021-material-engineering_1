{
  "nbformat": 4,
  "nbformat_minor": 0,
  "metadata": {
    "kernelspec": {
      "display_name": "Python 3",
      "language": "python",
      "name": "python3"
    },
    "language_info": {
      "codemirror_mode": {
        "name": "ipython",
        "version": 2
      },
      "file_extension": ".py",
      "mimetype": "text/x-python",
      "name": "python",
      "nbconvert_exporter": "python",
      "pygments_lexer": "ipython2",
      "version": "2.7.17"
    },
    "colab": {
      "name": "Copie de 3_MaterialEngineering.ipynb",
      "provenance": [],
      "collapsed_sections": []
    }
  },
  "cells": [
    {
      "cell_type": "markdown",
      "metadata": {
        "id": "1ynuTLQvxPkt"
      },
      "source": [
        "# Synthesis of New Materials in Industry Based on Machine Learning"
      ]
    },
    {
      "cell_type": "markdown",
      "metadata": {
        "id": "bbbxWMPF4stY"
      },
      "source": [
        "The goal of this lab is to build a neural network capable of predicting the behavior of new materials from a set of known materials. Deeper insights can be found in this [paper](https://roboticsmind.github.io/public/research/aaai-2021/osmani2021augmented.pdf) but we will restrict to reproduce the baseline model."
      ]
    },
    {
      "cell_type": "markdown",
      "metadata": {
        "id": "elighUxvxk9_"
      },
      "source": [
        "## Application Description\n",
        "\n",
        "<p align=\"center\">\n",
        "<img src=\"https://user-images.githubusercontent.com/8298445/107156058-5baf2c00-697c-11eb-95a2-42dbf1db8612.png\" height=\"300px\"/>\n",
        "</p>\n",
        "\n",
        "**Red Pigment** (the first known material in our application) is a natural form of mineral composed mainly of iron oxide;\n",
        "\n",
        "**Calamine Oxide** (the second known material in our application) is a steel by-product obtained during continuous casting or heating of slabs and billets;\n",
        "\n",
        "**The synthesis of new materials** is obtained by the contribution of the calamine in this process by ensuring a sufficient quantity of $Fe_2O_3$ and increasing the density of the synthesized pigment.\n",
        "The goal is to get materials with some desirable qualitative properties including optical properties, ferromagnetic properties, etc."
      ]
    },
    {
      "cell_type": "markdown",
      "metadata": {
        "id": "UhwuzS3B32S8"
      },
      "source": [
        "## Dataset Description\n",
        "\n",
        "* Dataset consists of thermal analysis of raw materials collected with an SDT-Q600 version 20.9 build 20 industrial instrument that monitors the calcination of the mixtures;\n",
        "* Various signals are monitored by the instrument, including, temperature (°C), weight (mg), heat flow (mW), temperature difference ($\\mu V$), sample purge flow (mL/min), etc.;\n",
        "* In addition to the theoretical curves of the red pigment ($pig$) and the calamine oxide ($cala$) that were obtained separately, we perform calcination of mixtures with various percentages, $p_i\\in\\{5, 10, 15, 20, 25, 35\\}$, of additional calamine oxide to the red pigment.\n",
        "\n",
        "\n",
        "After performing integration with your drive and GitHub, you will find the data inside `./data/` folder. It has the following structure:\n",
        "```\n",
        "./data/\n",
        "    ├── ATG10pc.csv\n",
        "    ├── ATG15pc.csv\n",
        "    ├── ATG20pc.csv\n",
        "    ├── ATG25pc.csv\n",
        "    ├── ATG35pc.csv\n",
        "    ├── ATG5pc.csv\n",
        "    ├── ATGPig.csv\n",
        "    └── ATGcala.csv\n",
        "```\n",
        "\n",
        "Visualization of the quantities being monitored in this application can be found bellow (after loading the dataset). Here is the evolution of the monitored signals for the Red Pigment.\n",
        "\n",
        "<p align=\"center\">\n",
        "<img src=\"https://user-images.githubusercontent.com/8298445/107157765-3d4e2e00-6986-11eb-936b-7ea98561c449.png\" title=\"Red Pigment --- Evolution of the Calcination Process\" height=\"300px\"/>\n",
        "<br/>\n",
        "<b>Figure:</b> Simultaneous thermal and mass loss analysis of (a)red pigment and (b, c) binary mixture of red pigment and ad-ditional calamine percentages. The effect of the temperatureaugmentation on the behavior of the red pigment is shownvia  weight,  derivative  weight,  temperature  difference,  andheat flow curves.\n",
        "</p>"
      ]
    },
    {
      "cell_type": "markdown",
      "metadata": {
        "id": "ihG-dtZGftc6"
      },
      "source": [
        "## Integration between Google Drive --- Colab --- Github\n",
        "\n",
        "**Ex. 1** Perform the integration between Drive, Colab, and GitHub.\n",
        "The repository that has to be cloned is at this address: `https://github.com/roboticsmind/2021-material-engineering`.\n",
        "\n",
        "After connecting to the drive, use the address of the repository to clone it."
      ]
    },
    {
      "cell_type": "code",
      "metadata": {
        "id": "mULarLABh3tZ"
      },
      "source": [
        ""
      ],
      "execution_count": null,
      "outputs": []
    },
    {
      "cell_type": "code",
      "metadata": {
        "id": "sVKQ6CQDh9L6"
      },
      "source": [
        "\n"
      ],
      "execution_count": null,
      "outputs": []
    },
    {
      "cell_type": "markdown",
      "metadata": {
        "id": "S3lpRdpXidnb"
      },
      "source": [
        "**Ex. 2** Go inside the cloned repository and check that everything has been correctly cloned. Be aware of the difference between `!cd` and `%cd`."
      ]
    },
    {
      "cell_type": "code",
      "metadata": {
        "id": "PndiCB1Lip3B"
      },
      "source": [
        ""
      ],
      "execution_count": null,
      "outputs": []
    },
    {
      "cell_type": "markdown",
      "metadata": {
        "id": "35i_2LPxd60H"
      },
      "source": [
        "## Loading Libraries"
      ]
    },
    {
      "cell_type": "markdown",
      "metadata": {
        "id": "yHUfqtMxdMKt"
      },
      "source": [
        "**Ex. 3** Load _tensorflow_, _keras_, and _numpy_ libraries"
      ]
    },
    {
      "cell_type": "code",
      "metadata": {
        "id": "WBmjd4bCmJz-"
      },
      "source": [
        ""
      ],
      "execution_count": null,
      "outputs": []
    },
    {
      "cell_type": "markdown",
      "metadata": {
        "id": "hjaXpjlNE2H9"
      },
      "source": [
        "**Ex. 4** Here, we want to master the randomness that certain libraries rely upon in order to be able to reproduce the results (without the side effects related to randomness). Define a seed and use it to initialize _numpy_'s and _tensorflow_'s random generators. For tensorflow see [tf.random](https://www.tensorflow.org/api_docs/python/tf/random/set_seed).\n"
      ]
    },
    {
      "cell_type": "code",
      "metadata": {
        "id": "irx_ainnE0GL"
      },
      "source": [
        ""
      ],
      "execution_count": null,
      "outputs": []
    },
    {
      "cell_type": "markdown",
      "metadata": {
        "id": "ajmVkMb98IEI"
      },
      "source": [
        "## Loading and Visualizing the Dataset"
      ]
    },
    {
      "cell_type": "code",
      "metadata": {
        "id": "nPCoHoE5mJ0H"
      },
      "source": [
        "# load data\n",
        "curves = [\n",
        "  'ATGPig',\n",
        "  'ATG5pc',\n",
        "  'ATG10pc',\n",
        "  'ATG15pc',\n",
        "  'ATG20pc',\n",
        "  'ATG25pc',\n",
        "  'ATG35pc',\n",
        "  'ATGcala'\n",
        "]\n",
        "columns = [\n",
        "  'time',\n",
        "  'temperature',\n",
        "  'weight',\n",
        "  'heat_flow',\n",
        "  'temperature_difference_C',\n",
        "  'temperature_difference_V',\n",
        "  'Sample_purge_flow',\n",
        "  'Unknown'\n",
        "]"
      ],
      "execution_count": null,
      "outputs": []
    },
    {
      "cell_type": "markdown",
      "metadata": {
        "id": "DJDjhh9yC-6g"
      },
      "source": [
        "**Ex. 5** Load `pandas` library and use the function `read_csv()` to read one of the `.csv` files contained in `data/`. Provide the necessary parameters (check the documentation [here](https://pandas.pydata.org/pandas-docs/stable/reference/api/pandas.read_csv.html). In particular, take care of `delimiter`, `header`, and `names`)."
      ]
    },
    {
      "cell_type": "code",
      "metadata": {
        "id": "LbG0lWZtpDDC"
      },
      "source": [
        ""
      ],
      "execution_count": null,
      "outputs": []
    },
    {
      "cell_type": "markdown",
      "metadata": {
        "id": "-znDWxefCxcL"
      },
      "source": [
        "**Ex. 6** `read_csv()` returns a `DataFrame`. Check the documentation of `DataFrame` [here](https://pandas.pydata.org/pandas-docs/stable/reference/frame.html) and display its contents."
      ]
    },
    {
      "cell_type": "code",
      "metadata": {
        "id": "FQVlZoYadmGA"
      },
      "source": [
        ""
      ],
      "execution_count": null,
      "outputs": []
    },
    {
      "cell_type": "markdown",
      "metadata": {
        "id": "yZnuPmUSdmd-"
      },
      "source": [
        "**Ex. 7** Write a function that loads the `.csv` files contained in `data/` folder and returns a dictionary having the columns, defined above, as keys."
      ]
    },
    {
      "cell_type": "code",
      "metadata": {
        "id": "hON7s-LGdbFF"
      },
      "source": [
        ""
      ],
      "execution_count": null,
      "outputs": []
    },
    {
      "cell_type": "code",
      "metadata": {
        "id": "3FHXTGgRddPn"
      },
      "source": [
        ""
      ],
      "execution_count": null,
      "outputs": []
    },
    {
      "cell_type": "markdown",
      "metadata": {
        "id": "2ePIKn1JeOJY"
      },
      "source": [
        "**Ex. 8** Take a look inside the returned dictionary."
      ]
    },
    {
      "cell_type": "code",
      "metadata": {
        "id": "y_vZiAl6mJ0K"
      },
      "source": [
        ""
      ],
      "execution_count": null,
      "outputs": []
    },
    {
      "cell_type": "code",
      "metadata": {
        "id": "TKvwdVrgmJ0L"
      },
      "source": [
        ""
      ],
      "execution_count": null,
      "outputs": []
    },
    {
      "cell_type": "markdown",
      "metadata": {
        "id": "TjFzWhMSCpXs"
      },
      "source": [
        "**Ex. 9** plot the different curves using the plot utilities provided by `matplotlib`. (Check the documentation of `matplotlib` [here](https://matplotlib.org/3.1.1/api/_as_gen/matplotlib.pyplot.plot.html))."
      ]
    },
    {
      "cell_type": "code",
      "metadata": {
        "id": "cfD39FxbZUAm"
      },
      "source": [
        ""
      ],
      "execution_count": null,
      "outputs": []
    },
    {
      "cell_type": "markdown",
      "metadata": {
        "id": "wodnYjmEmJ0M"
      },
      "source": [
        "## Data Preparation"
      ]
    },
    {
      "cell_type": "markdown",
      "metadata": {
        "id": "Xw63OIhAmJ0M"
      },
      "source": [
        "### Reconstruction of ATG35pc with f(ATGPig, ATGcala)"
      ]
    },
    {
      "cell_type": "markdown",
      "metadata": {
        "id": "5gpS3x6jKaR1"
      },
      "source": [
        "Consider the following figure which depicts the state space defined by the experiments (calcination) conducted at different percentages of additional calamine oxide. The axe $u(t)$ corresponds to the temperature applied to the mixture.\n",
        "\n",
        "<p align=\"center\">\n",
        "<img src=\"https://user-images.githubusercontent.com/8298445/107158505-eb5bd700-698a-11eb-895e-1439281b9c3f.png\" height=\"200px\"/>\n",
        "</p>\n",
        "\n",
        "In this lab, we will use ATGpig (0%) and ATGcala (100%) in order to reconstruct (or predict) the behavior of the mixture ATG35pc (35% of additional calamine oxide)."
      ]
    },
    {
      "cell_type": "markdown",
      "metadata": {
        "id": "T0QZjH0cFRbm"
      },
      "source": [
        "\n",
        "**Ex. 10** In the following cell, define two variables `INPUT_PERCENTAGES` and `TARGET_PERCENTAGE` which should contain the input and output percentages of the neural network."
      ]
    },
    {
      "cell_type": "code",
      "metadata": {
        "id": "jd3QRG2LmJ0L"
      },
      "source": [
        ""
      ],
      "execution_count": null,
      "outputs": []
    },
    {
      "cell_type": "markdown",
      "metadata": {
        "id": "JK__wqHvk-XR"
      },
      "source": [
        "**Ex. 11** The target quantities (outputs of our model) are _weight_ and _temperature_ (or _temperature difference_). In the other hand, the input quantities to our neural network will be _weight_, _heat flow_, _temperature difference_, and _sample purge flow_.\n",
        "\n",
        "In addition to the input and output percentages you defined above, define two other variables `INPUTS` and `OUTPUTS` which should contain the quantities of interest used in the neural network."
      ]
    },
    {
      "cell_type": "code",
      "metadata": {
        "id": "zSsN6OVGk_AC"
      },
      "source": [
        ""
      ],
      "execution_count": null,
      "outputs": []
    },
    {
      "cell_type": "markdown",
      "metadata": {
        "id": "HhhuZ7h8SCHL"
      },
      "source": [
        "**Ex. 12** Define a function called `get_data()` which takes as input a pandas dataframe and returns 2 dictionaries (`train_inputs` and `train_outputs`) which keys have the following format (according to the variables defined above).\n",
        "\n",
        "* for `train_inputs`:\n",
        "```python\n",
        "train_inputs={\n",
        "    # pig\n",
        "    'ATGpig_weight': [...data here...],  \n",
        "    'ATGpig_heat_flow': [...data here...],\n",
        "    'ATGpig_temperature_difference_C': [...data here...],\n",
        "    'ATGpig_Sample_purge_flow': [...data here...],\n",
        "\n",
        "    # cala\n",
        "    'ATGcala_weight': [...data here...],  \n",
        "    'ATGcala_heat_flow': [...data here...],\n",
        "    'ATGcala_temperature_difference_C': [...data here...],\n",
        "    'ATGcala_Sample_purge_flow': [...data here...],\n",
        "}\n",
        "```\n",
        "\n",
        "* for `train_outputs`:\n",
        "```python\n",
        "train_outputs={\n",
        "    # ATG35pc\n",
        "    'ATG35pc_weight': [...data here...],\n",
        "    'ATG35pc_temperature_difference_C': [...data here...],\n",
        "}\n",
        "```"
      ]
    },
    {
      "cell_type": "code",
      "metadata": {
        "id": "W8hiyWEulslL"
      },
      "source": [
        ""
      ],
      "execution_count": null,
      "outputs": []
    },
    {
      "cell_type": "markdown",
      "metadata": {
        "id": "S7JGEf71XzpL"
      },
      "source": [
        "**Ex. 13** Test your implementation and check the contents of the resulting dictionaries."
      ]
    },
    {
      "cell_type": "code",
      "metadata": {
        "id": "Jy_ATE63XyVo"
      },
      "source": [
        ""
      ],
      "execution_count": null,
      "outputs": []
    },
    {
      "cell_type": "markdown",
      "metadata": {
        "id": "vLBPKC8iVuSJ"
      },
      "source": [
        "**Ex. 14** Using `model_selection` of `sklearn` ([see documentation here]()) generate two indexes that will be used to split the data points of a given curve into two parts (75 for train and 25 for validation)."
      ]
    },
    {
      "cell_type": "code",
      "metadata": {
        "id": "JPGxHt1viPr8"
      },
      "source": [
        ""
      ],
      "execution_count": null,
      "outputs": []
    },
    {
      "cell_type": "markdown",
      "metadata": {
        "id": "RPDNnlc8We56"
      },
      "source": [
        "**Ex. 15** Modify the function `get_data()` you defined above to return 4 dictionaries (`train_inputs`, `train_outputs`, `valid_inputs`, and `valid_outputs`) rather than 2 initially. Use ths splits you constructed above with `ShuffleSplit`."
      ]
    },
    {
      "cell_type": "code",
      "metadata": {
        "id": "NEiRiO2bXgPy"
      },
      "source": [
        ""
      ],
      "execution_count": null,
      "outputs": []
    },
    {
      "cell_type": "code",
      "metadata": {
        "id": "SXF81BKnX9tf"
      },
      "source": [
        ""
      ],
      "execution_count": null,
      "outputs": []
    },
    {
      "cell_type": "markdown",
      "metadata": {
        "id": "2D_gL6myRBUi"
      },
      "source": [
        "**Ex. 16** Print the shapes of the dictionaries returned by `get_data()`. Ensure that the sizes correspond to the splitting ratio (75/25) we asked you to use."
      ]
    },
    {
      "cell_type": "code",
      "metadata": {
        "id": "HR5lVc6bnFBD"
      },
      "source": [
        ""
      ],
      "execution_count": null,
      "outputs": []
    },
    {
      "cell_type": "markdown",
      "metadata": {
        "id": "byH2CRTe5e3b"
      },
      "source": [
        "**Ex. 17** Propose some data visualisation"
      ]
    },
    {
      "cell_type": "code",
      "metadata": {
        "id": "13jiI2AY5sQb"
      },
      "source": [
        ""
      ],
      "execution_count": null,
      "outputs": []
    },
    {
      "cell_type": "code",
      "metadata": {
        "id": "5cYStjeIOZGU"
      },
      "source": [
        ""
      ],
      "execution_count": null,
      "outputs": []
    },
    {
      "cell_type": "markdown",
      "metadata": {
        "id": "S1AQ5br8Mkpm"
      },
      "source": [
        "**Ex. 18** Propose a simple model to solve the given problem\n"
      ]
    },
    {
      "cell_type": "code",
      "metadata": {
        "id": "INf6oykkQerR"
      },
      "source": [
        ""
      ],
      "execution_count": null,
      "outputs": []
    }
  ]
}